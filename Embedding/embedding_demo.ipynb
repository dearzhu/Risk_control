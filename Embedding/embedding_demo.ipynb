{
 "cells": [
  {
   "cell_type": "code",
   "execution_count": 1,
   "metadata": {},
   "outputs": [],
   "source": [
    "#数据读取 为了方便大家更好的理解数据，我们重命名为中文\n",
    "import numpy  as np\n",
    "import pandas as pd\n",
    "import os\n",
    "# pandasql 可以把SQL代码写到这里，有些复杂的逻辑方便SQL写，并且日常应用也好参考,没有的安装下 pip install pandasql\n",
    "from   pandasql import sqldf\n",
    "\n",
    "\n",
    "data      = pd.read_csv(\"账户交易信息.csv\", encoding=\"gbk\")\n",
    "train     = pd.read_csv(\"训练集标签.csv\", encoding=\"gbk\")\n",
    "user_info = pd.read_csv(\"账户静态信息.csv\", encoding=\"utf-8\")\n",
    "test      = pd.read_csv(\"test_dataset.csv\", encoding=\"utf-8\")\n",
    "data = data.rename({\n",
    "                    'jylsxh': '交易流水序号',\n",
    "                    'zhdh': '账户代号',\n",
    "                    'dfzh': '对方账号',\n",
    "                    'jdbz': '借贷标志',\n",
    "                    'jyje': '交易金额',\n",
    "                    'jyye': '交易余额',\n",
    "                    'dfhh': '对方行号',\n",
    "                    'jyrq': '交易日期',\n",
    "                    'jysj': '交易时间',\n",
    "                    'jyqd': '交易渠道',\n",
    "                    'zydh': '摘要代号',\n",
    "                    'jdbj': '借贷标记',\n",
    "                    'zhye': '账户余额',\n",
    "                    'dfmccd': '对方名称长度'}, axis=1\n",
    "                  )\n",
    "\n",
    "train    = train.rename({'zhdh': '账户代号', \n",
    "                         'black_flag': '标签'}, axis=1\n",
    "                       )\n",
    "\n",
    "user_info =  user_info.rename({'zhdh': '账户代号',\n",
    "                               'khrq':'开户日期', \n",
    "                               'xb': '性别', \n",
    "                             'khjgdh':'开户机构代号'}, axis=1\n",
    "                              )\n",
    "\n",
    "test    =  test.rename({'zhdh': '账户代号'},axis=1)\n",
    "\n",
    "# #对数据进行聚合\n",
    "# df = data.groupby(['账户代号','对方账号']).agg({'交易流水序号': pd.Series.nunique}).reset_index()\n",
    "# print('聚合数据总数:\\n',df.shape)\n",
    "\n",
    "# # 剔除自己指向自己的节点\n",
    "# df = df[df['账户代号']!=df['对方账号']]\n",
    "# print('剔除后的数据:\\n',df.shape)"
   ]
  },
  {
   "cell_type": "code",
   "execution_count": 2,
   "metadata": {},
   "outputs": [
    {
     "name": "stdout",
     "output_type": "stream",
     "text": [
      "剔除前的数据:\n",
      " (239495, 3)\n",
      "剔除后的数据:\n",
      " (238808, 3)\n"
     ]
    }
   ],
   "source": [
    "# 异构网络构建\n",
    "df1 = data[['账户代号','对方账号']]\n",
    "df1.columns = ['账户代号','对方账号']\n",
    "\n",
    "\n",
    "df2 = data[['账户代号','摘要代号']]\n",
    "df2.columns = ['账户代号','对方账号']\n",
    "\n",
    "\n",
    "# 关系合并\n",
    "df = pd.concat([df1,df2])\n",
    "\n",
    "\n",
    "# 对数据进行聚合\n",
    "df = df.groupby(['账户代号','对方账号']).agg({'对方账号': ['count']}).reset_index()\n",
    "df.columns=['账户代号','对方账号','CNT']\n",
    "\n",
    "# 剔除自己指向自己的节点\n",
    "print('剔除前的数据:\\n',df.shape)\n",
    "\n",
    "df = df[df['账户代号']!=df['对方账号']]\n",
    "print('剔除后的数据:\\n',df.shape)\n"
   ]
  },
  {
   "cell_type": "code",
   "execution_count": 3,
   "metadata": {},
   "outputs": [],
   "source": [
    "# 关系数据转换成networkx的图格式\n",
    "import networkx as nx\n",
    "import matplotlib.pyplot as plt\n",
    "\n",
    "# da = join_table[join_table['sim']>=0]\n",
    "# print(da.shape)\n",
    "da = df[['账户代号','对方账号']].values\n",
    "G  = nx.Graph()\n",
    "for num in range(len(da)):\n",
    "    G.add_edge(str(da[num,0]),str(da[num,1]))\n",
    "    "
   ]
  },
  {
   "cell_type": "code",
   "execution_count": 5,
   "metadata": {},
   "outputs": [
    {
     "data": {
      "application/vnd.jupyter.widget-view+json": {
       "model_id": "a4cacdaf9528484cb3e08703c7651f17",
       "version_major": 2,
       "version_minor": 0
      },
      "text/plain": [
       "Computing transition probabilities:   0%|          | 0/137592 [00:00<?, ?it/s]"
      ]
     },
     "metadata": {},
     "output_type": "display_data"
    }
   ],
   "source": [
    "from node2vec import Node2Vec\n",
    "from datetime import datetime\n",
    "\n",
    "#加个运行时间的监控，这里是起点\n",
    "start = datetime.now()\n",
    "\n",
    "#参数设置\n",
    "node2vec = Node2Vec(G,\n",
    "                    dimensions=128, \n",
    "                    walk_length=10, \n",
    "                    p=0.8,\n",
    "                    q=1.2,\n",
    "                    num_walks=10, \n",
    "                    workers=4\n",
    "                    ) \n",
    "\n",
    "#embedding 训练\n",
    "model = node2vec.fit(window    = 8, \n",
    "                     min_count = 1, \n",
    "                     batch_words = 4\n",
    "                    )\n",
    "\n",
    "#加个运行时间的监控，这里是终点\n",
    "end = datetime.now()\n",
    "# 打印运行时间差\n",
    "print(end - start)"
   ]
  },
  {
   "cell_type": "code",
   "execution_count": null,
   "metadata": {},
   "outputs": [],
   "source": []
  }
 ],
 "metadata": {
  "kernelspec": {
   "display_name": "base",
   "language": "python",
   "name": "python3"
  },
  "language_info": {
   "codemirror_mode": {
    "name": "ipython",
    "version": 3
   },
   "file_extension": ".py",
   "mimetype": "text/x-python",
   "name": "python",
   "nbconvert_exporter": "python",
   "pygments_lexer": "ipython3",
   "version": "3.9.12"
  }
 },
 "nbformat": 4,
 "nbformat_minor": 2
}
