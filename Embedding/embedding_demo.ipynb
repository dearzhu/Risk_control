{
 "cells": [
  {
   "cell_type": "code",
   "execution_count": 1,
   "metadata": {},
   "outputs": [],
   "source": [
    "#数据读取 为了方便大家更好的理解数据，我们重命名为中文\n",
    "import numpy  as np\n",
    "import pandas as pd\n",
    "import os\n",
    "# pandasql 可以把SQL代码写到这里，有些复杂的逻辑方便SQL写，并且日常应用也好参考,没有的安装下 pip install pandasql\n",
    "from   pandasql import sqldf\n",
    "\n",
    "\n",
    "data      = pd.read_csv(\"账户交易信息.csv\", encoding=\"gbk\")\n",
    "train     = pd.read_csv(\"训练集标签.csv\", encoding=\"gbk\")\n",
    "user_info = pd.read_csv(\"账户静态信息.csv\", encoding=\"utf-8\")\n",
    "test      = pd.read_csv(\"test_dataset.csv\", encoding=\"utf-8\")\n",
    "data = data.rename({\n",
    "                    'jylsxh': '交易流水序号',\n",
    "                    'zhdh': '账户代号',\n",
    "                    'dfzh': '对方账号',\n",
    "                    'jdbz': '借贷标志',\n",
    "                    'jyje': '交易金额',\n",
    "                    'jyye': '交易余额',\n",
    "                    'dfhh': '对方行号',\n",
    "                    'jyrq': '交易日期',\n",
    "                    'jysj': '交易时间',\n",
    "                    'jyqd': '交易渠道',\n",
    "                    'zydh': '摘要代号',\n",
    "                    'jdbj': '借贷标记',\n",
    "                    'zhye': '账户余额',\n",
    "                    'dfmccd': '对方名称长度'}, axis=1\n",
    "                  )\n",
    "\n",
    "train    = train.rename({'zhdh': '账户代号', \n",
    "                         'black_flag': '标签'}, axis=1\n",
    "                       )\n",
    "\n",
    "user_info =  user_info.rename({'zhdh': '账户代号',\n",
    "                               'khrq':'开户日期', \n",
    "                               'xb': '性别', \n",
    "                             'khjgdh':'开户机构代号'}, axis=1\n",
    "                              )\n",
    "\n",
    "test    =  test.rename({'zhdh': '账户代号'},axis=1)\n",
    "\n",
    "# #对数据进行聚合\n",
    "# df = data.groupby(['账户代号','对方账号']).agg({'交易流水序号': pd.Series.nunique}).reset_index()\n",
    "# print('聚合数据总数:\\n',df.shape)\n",
    "\n",
    "# # 剔除自己指向自己的节点\n",
    "# df = df[df['账户代号']!=df['对方账号']]\n",
    "# print('剔除后的数据:\\n',df.shape)"
   ]
  },
  {
   "cell_type": "code",
   "execution_count": 2,
   "metadata": {},
   "outputs": [
    {
     "name": "stdout",
     "output_type": "stream",
     "text": [
      "剔除前的数据:\n",
      " (239495, 3)\n",
      "剔除后的数据:\n",
      " (238808, 3)\n"
     ]
    }
   ],
   "source": [
    "# 异构网络构建\n",
    "df1 = data[['账户代号','对方账号']]\n",
    "df1.columns = ['账户代号','对方账号']\n",
    "\n",
    "\n",
    "df2 = data[['账户代号','摘要代号']]\n",
    "df2.columns = ['账户代号','对方账号']\n",
    "\n",
    "\n",
    "# 关系合并\n",
    "df = pd.concat([df1,df2])\n",
    "\n",
    "\n",
    "# 对数据进行聚合\n",
    "df = df.groupby(['账户代号','对方账号']).agg({'对方账号': ['count']}).reset_index()\n",
    "df.columns=['账户代号','对方账号','CNT']\n",
    "\n",
    "# 剔除自己指向自己的节点\n",
    "print('剔除前的数据:\\n',df.shape)\n",
    "\n",
    "df = df[df['账户代号']!=df['对方账号']]\n",
    "print('剔除后的数据:\\n',df.shape)\n"
   ]
  },
  {
   "cell_type": "code",
   "execution_count": 3,
   "metadata": {},
   "outputs": [],
   "source": [
    "# 关系数据转换成networkx的图格式\n",
    "import networkx as nx\n",
    "import matplotlib.pyplot as plt\n",
    "\n",
    "# da = join_table[join_table['sim']>=0]\n",
    "# print(da.shape)\n",
    "da = df[['账户代号','对方账号']].values\n",
    "G  = nx.Graph()\n",
    "for num in range(len(da)):\n",
    "    G.add_edge(str(da[num,0]),str(da[num,1]))\n",
    "    "
   ]
  },
  {
   "cell_type": "code",
   "execution_count": 5,
   "metadata": {},
   "outputs": [
    {
     "data": {
      "application/vnd.jupyter.widget-view+json": {
       "model_id": "a4cacdaf9528484cb3e08703c7651f17",
       "version_major": 2,
       "version_minor": 0
      },
      "text/plain": [
       "Computing transition probabilities:   0%|          | 0/137592 [00:00<?, ?it/s]"
      ]
     },
     "metadata": {},
     "output_type": "display_data"
    },
    {
     "name": "stderr",
     "output_type": "stream",
     "text": [
      "Generating walks (CPU: 3): 100%|██████████| 2/2 [01:34<00:00, 47.13s/it]\n",
      "Generating walks (CPU: 4): 100%|██████████| 2/2 [01:29<00:00, 44.96s/it]\n",
      "Generating walks (CPU: 1): 100%|██████████| 3/3 [02:21<00:00, 47.24s/it]\n",
      "Generating walks (CPU: 2): 100%|██████████| 3/3 [02:17<00:00, 45.85s/it]\n"
     ]
    },
    {
     "name": "stdout",
     "output_type": "stream",
     "text": [
      "0:16:48.664146\n"
     ]
    }
   ],
   "source": [
    "from node2vec import Node2Vec\n",
    "from datetime import datetime\n",
    "\n",
    "#加个运行时间的监控，这里是起点\n",
    "start = datetime.now()\n",
    "\n",
    "#参数设置\n",
    "node2vec = Node2Vec(G,\n",
    "                    dimensions=128, \n",
    "                    walk_length=10, \n",
    "                    p=0.8,\n",
    "                    q=1.2,\n",
    "                    num_walks=10, \n",
    "                    workers=4\n",
    "                    ) \n",
    "\n",
    "#embedding 训练\n",
    "model = node2vec.fit(window    = 8, \n",
    "                     min_count = 1, \n",
    "                     batch_words = 4\n",
    "                    )\n",
    "\n",
    "#加个运行时间的监控，这里是终点\n",
    "end = datetime.now()\n",
    "# 打印运行时间差\n",
    "print(end - start)"
   ]
  },
  {
   "cell_type": "code",
   "execution_count": 6,
   "metadata": {},
   "outputs": [
    {
     "data": {
      "text/plain": [
       "array([[ 0.3913144 , -0.0745106 ,  0.56893414, ..., -0.19531395,\n",
       "        -0.22470807,  0.02920654],\n",
       "       [-0.02110826, -0.04639608,  0.7374693 , ..., -0.4943545 ,\n",
       "        -0.37653854,  0.36149612],\n",
       "       [ 0.10577266, -0.5561032 ,  0.12941386, ...,  0.27673745,\n",
       "        -0.05831195,  0.21263568],\n",
       "       ...,\n",
       "       [ 0.16044295, -0.38389388, -0.09044436, ..., -0.290499  ,\n",
       "         0.05782848,  0.03880776],\n",
       "       [-0.05336415, -0.08272731, -0.10765271, ..., -0.12042113,\n",
       "         0.35115936, -0.00188111],\n",
       "       [ 0.00277348, -0.20621154, -0.13479094, ..., -0.12463326,\n",
       "         0.19796212, -0.09460197]], dtype=float32)"
      ]
     },
     "execution_count": 6,
     "metadata": {},
     "output_type": "execute_result"
    }
   ],
   "source": [
    "# 相似节点查找\n",
    "model.wv.most_similar('1F77C9FDBDBE78D0',\n",
    "                      topn = 20\n",
    "                      ) \n",
    "                      \n",
    "# 词列表\n",
    "model.wv.index_to_key\n",
    "\n",
    "# 词向量\n",
    "model.wv.vectors"
   ]
  },
  {
   "cell_type": "code",
   "execution_count": 7,
   "metadata": {},
   "outputs": [
    {
     "data": {
      "text/html": [
       "<div>\n",
       "<style scoped>\n",
       "    .dataframe tbody tr th:only-of-type {\n",
       "        vertical-align: middle;\n",
       "    }\n",
       "\n",
       "    .dataframe tbody tr th {\n",
       "        vertical-align: top;\n",
       "    }\n",
       "\n",
       "    .dataframe thead th {\n",
       "        text-align: right;\n",
       "    }\n",
       "</style>\n",
       "<table border=\"1\" class=\"dataframe\">\n",
       "  <thead>\n",
       "    <tr style=\"text-align: right;\">\n",
       "      <th></th>\n",
       "      <th>0</th>\n",
       "      <th>1</th>\n",
       "      <th>2</th>\n",
       "      <th>3</th>\n",
       "      <th>4</th>\n",
       "      <th>5</th>\n",
       "      <th>6</th>\n",
       "      <th>7</th>\n",
       "      <th>8</th>\n",
       "      <th>9</th>\n",
       "      <th>...</th>\n",
       "      <th>118</th>\n",
       "      <th>119</th>\n",
       "      <th>120</th>\n",
       "      <th>121</th>\n",
       "      <th>122</th>\n",
       "      <th>123</th>\n",
       "      <th>124</th>\n",
       "      <th>125</th>\n",
       "      <th>126</th>\n",
       "      <th>127</th>\n",
       "    </tr>\n",
       "  </thead>\n",
       "  <tbody>\n",
       "    <tr>\n",
       "      <th>0</th>\n",
       "      <td>-0.185674</td>\n",
       "      <td>-0.297563</td>\n",
       "      <td>-0.117594</td>\n",
       "      <td>0.202553</td>\n",
       "      <td>0.754541</td>\n",
       "      <td>0.250272</td>\n",
       "      <td>-0.662021</td>\n",
       "      <td>0.303024</td>\n",
       "      <td>-0.31567</td>\n",
       "      <td>-0.080389</td>\n",
       "      <td>...</td>\n",
       "      <td>0.579538</td>\n",
       "      <td>0.290362</td>\n",
       "      <td>-0.287749</td>\n",
       "      <td>-0.550595</td>\n",
       "      <td>0.006674</td>\n",
       "      <td>0.563537</td>\n",
       "      <td>-0.205403</td>\n",
       "      <td>-0.551901</td>\n",
       "      <td>0.530594</td>\n",
       "      <td>-0.012123</td>\n",
       "    </tr>\n",
       "  </tbody>\n",
       "</table>\n",
       "<p>1 rows × 128 columns</p>\n",
       "</div>"
      ],
      "text/plain": [
       "        0         1         2         3         4         5         6    \\\n",
       "0 -0.185674 -0.297563 -0.117594  0.202553  0.754541  0.250272 -0.662021   \n",
       "\n",
       "        7        8         9    ...       118       119       120       121  \\\n",
       "0  0.303024 -0.31567 -0.080389  ...  0.579538  0.290362 -0.287749 -0.550595   \n",
       "\n",
       "        122       123       124       125       126       127  \n",
       "0  0.006674  0.563537 -0.205403 -0.551901  0.530594 -0.012123  \n",
       "\n",
       "[1 rows x 128 columns]"
      ]
     },
     "execution_count": 7,
     "metadata": {},
     "output_type": "execute_result"
    }
   ],
   "source": [
    "# 取出训练集里面的账户代号的的向量\n",
    "zhanghao = pd.DataFrame(train[['账户代号']]).reset_index(drop=True)\n",
    "\n",
    "embedded = pd.DataFrame([model.wv[x] for x in train['账户代号'].tolist()]).reset_index(drop=True)\n",
    "embedded.columns = ['v_'+str(i) for i in range(0,128)]\n",
    "\n",
    "embeddings = pd.concat([train,embedded],axis = 1)\n",
    "\n",
    "embeddings\n",
    "\n",
    "# 我们可以挑几个节点看看，是不是对齐的\n",
    "pd.DataFrame([model.wv[x] for x in ['8D2F48B0BFC40AB2']])"
   ]
  },
  {
   "cell_type": "code",
   "execution_count": 8,
   "metadata": {},
   "outputs": [
    {
     "name": "stderr",
     "output_type": "stream",
     "text": [
      "[Parallel(n_jobs=1)]: Using backend SequentialBackend with 1 concurrent workers.\n",
      "[Parallel(n_jobs=1)]: Done 300 out of 300 | elapsed:    0.9s finished\n",
      "[Parallel(n_jobs=1)]: Using backend SequentialBackend with 1 concurrent workers.\n",
      "[Parallel(n_jobs=1)]: Done 300 out of 300 | elapsed:    0.0s finished\n",
      "[Parallel(n_jobs=1)]: Using backend SequentialBackend with 1 concurrent workers.\n",
      "[Parallel(n_jobs=1)]: Done 300 out of 300 | elapsed:    0.0s finished\n"
     ]
    },
    {
     "name": "stdout",
     "output_type": "stream",
     "text": [
      "threshold - 0.27600000, best f1 - 0.8067632850241546\n",
      "理论黑样本数: 60 \n",
      "\n",
      "预测黑样本数: 74\n",
      "准确率： 0.75 \n",
      "\n",
      "F1值 ： 0.8067632850241546\n"
     ]
    }
   ],
   "source": [
    "from sklearn.ensemble import RandomForestClassifier\n",
    "from sklearn.metrics  import confusion_matrix, precision_score, recall_score, f1_score, roc_auc_score,accuracy_score\n",
    "from sklearn.model_selection import train_test_split\n",
    "\n",
    "\n",
    "from sklearn.model_selection import KFold\n",
    "from sklearn.metrics import confusion_matrix\n",
    "from sklearn.ensemble import RandomForestRegressor\n",
    "from sklearn.ensemble import RandomForestClassifier\n",
    "import seaborn as sns\n",
    "import matplotlib.pyplot as plt\n",
    "\n",
    "\n",
    "# 划分特征变量与目标变量\n",
    "X = embeddings.drop(columns=['账户代号','标签'])\n",
    "Y = embeddings['标签']\n",
    "\n",
    "# 划分训练及测试集\n",
    "x_train,x_test,y_train,y_test=train_test_split(X,Y,test_size=0.2)\n",
    "\n",
    "\n",
    "rf = RandomForestClassifier(n_estimators=300, \n",
    "                            max_depth=8,\n",
    "                            verbose=1\n",
    "                           )\n",
    "rf.fit(x_train, y_train)\n",
    "\n",
    "predict       = rf.predict(x_test) # 结果为0,1\n",
    "predict_proba = rf.predict_proba(x_test) # 结果为概率值\n",
    "\n",
    "\n",
    "# 找到0-1分类最佳的概率切分值\n",
    "scores = []\n",
    "thresholds = []\n",
    "\n",
    "best_score = 0\n",
    "best_threshold = 0\n",
    "\n",
    "\n",
    "for threshold in np.arange(0.2, 0.6, 0.0001):\n",
    "    preds = (predict_proba[:,1].reshape((-1)) > threshold).astype('int')\n",
    "    m = f1_score(y_test, preds, average='macro')   \n",
    "    scores.append(m)\n",
    "    thresholds.append(threshold)\n",
    "    if m > best_score:\n",
    "        best_score = m\n",
    "        best_threshold = threshold\n",
    "print(f'threshold - {best_threshold:.08f}, best f1 - {best_score}')\n",
    "\n",
    "preds = (predict_proba[:,1].reshape((-1)) >best_threshold).astype('int')\n",
    "\n",
    "print('理论黑样本数:',str(int(240*0.25)),'\\n')\n",
    "print('预测黑样本数:',str(sum(preds)))\n",
    "\n",
    "\n",
    "# 准确率 + F1值评估\n",
    "print('准确率：',accuracy_score(y_test,predict),'\\n')\n",
    "print('F1值 ：',f1_score(y_test,preds, average='macro'))"
   ]
  },
  {
   "cell_type": "code",
   "execution_count": null,
   "metadata": {},
   "outputs": [],
   "source": []
  }
 ],
 "metadata": {
  "kernelspec": {
   "display_name": "base",
   "language": "python",
   "name": "python3"
  },
  "language_info": {
   "codemirror_mode": {
    "name": "ipython",
    "version": 3
   },
   "file_extension": ".py",
   "mimetype": "text/x-python",
   "name": "python",
   "nbconvert_exporter": "python",
   "pygments_lexer": "ipython3",
   "version": "3.9.12"
  }
 },
 "nbformat": 4,
 "nbformat_minor": 2
}
