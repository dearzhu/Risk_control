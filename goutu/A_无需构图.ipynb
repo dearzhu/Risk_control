{
 "cells": [
  {
   "cell_type": "code",
   "execution_count": 1,
   "metadata": {},
   "outputs": [
    {
     "data": {
      "text/html": [
       "<div>\n",
       "<style scoped>\n",
       "    .dataframe tbody tr th:only-of-type {\n",
       "        vertical-align: middle;\n",
       "    }\n",
       "\n",
       "    .dataframe tbody tr th {\n",
       "        vertical-align: top;\n",
       "    }\n",
       "\n",
       "    .dataframe thead th {\n",
       "        text-align: right;\n",
       "    }\n",
       "</style>\n",
       "<table border=\"1\" class=\"dataframe\">\n",
       "  <thead>\n",
       "    <tr style=\"text-align: right;\">\n",
       "      <th></th>\n",
       "      <th>userA</th>\n",
       "      <th>userB</th>\n",
       "      <th>time</th>\n",
       "    </tr>\n",
       "  </thead>\n",
       "  <tbody>\n",
       "    <tr>\n",
       "      <th>0</th>\n",
       "      <td>10010</td>\n",
       "      <td>10008</td>\n",
       "      <td>2024-01-07 09:21:22</td>\n",
       "    </tr>\n",
       "    <tr>\n",
       "      <th>1</th>\n",
       "      <td>10000</td>\n",
       "      <td>10016</td>\n",
       "      <td>2024-01-07 08:40:18</td>\n",
       "    </tr>\n",
       "    <tr>\n",
       "      <th>2</th>\n",
       "      <td>10008</td>\n",
       "      <td>10016</td>\n",
       "      <td>2024-01-07 12:47:31</td>\n",
       "    </tr>\n",
       "    <tr>\n",
       "      <th>3</th>\n",
       "      <td>10007</td>\n",
       "      <td>10013</td>\n",
       "      <td>2024-01-07 05:16:16</td>\n",
       "    </tr>\n",
       "    <tr>\n",
       "      <th>4</th>\n",
       "      <td>10002</td>\n",
       "      <td>10008</td>\n",
       "      <td>2024-01-07 08:00:21</td>\n",
       "    </tr>\n",
       "    <tr>\n",
       "      <th>5</th>\n",
       "      <td>10012</td>\n",
       "      <td>10004</td>\n",
       "      <td>2024-01-07 07:13:52</td>\n",
       "    </tr>\n",
       "    <tr>\n",
       "      <th>6</th>\n",
       "      <td>10003</td>\n",
       "      <td>10001</td>\n",
       "      <td>2024-01-07 20:54:28</td>\n",
       "    </tr>\n",
       "    <tr>\n",
       "      <th>7</th>\n",
       "      <td>10006</td>\n",
       "      <td>10016</td>\n",
       "      <td>2024-01-07 19:19:03</td>\n",
       "    </tr>\n",
       "    <tr>\n",
       "      <th>8</th>\n",
       "      <td>10005</td>\n",
       "      <td>10014</td>\n",
       "      <td>2024-01-07 08:52:56</td>\n",
       "    </tr>\n",
       "    <tr>\n",
       "      <th>9</th>\n",
       "      <td>10001</td>\n",
       "      <td>10005</td>\n",
       "      <td>2024-01-07 16:41:49</td>\n",
       "    </tr>\n",
       "    <tr>\n",
       "      <th>10</th>\n",
       "      <td>10001</td>\n",
       "      <td>10020</td>\n",
       "      <td>2024-01-07 01:11:07</td>\n",
       "    </tr>\n",
       "    <tr>\n",
       "      <th>11</th>\n",
       "      <td>10001</td>\n",
       "      <td>10000</td>\n",
       "      <td>2024-01-07 16:21:46</td>\n",
       "    </tr>\n",
       "  </tbody>\n",
       "</table>\n",
       "</div>"
      ],
      "text/plain": [
       "    userA  userB                 time\n",
       "0   10010  10008  2024-01-07 09:21:22\n",
       "1   10000  10016  2024-01-07 08:40:18\n",
       "2   10008  10016  2024-01-07 12:47:31\n",
       "3   10007  10013  2024-01-07 05:16:16\n",
       "4   10002  10008  2024-01-07 08:00:21\n",
       "5   10012  10004  2024-01-07 07:13:52\n",
       "6   10003  10001  2024-01-07 20:54:28\n",
       "7   10006  10016  2024-01-07 19:19:03\n",
       "8   10005  10014  2024-01-07 08:52:56\n",
       "9   10001  10005  2024-01-07 16:41:49\n",
       "10  10001  10020  2024-01-07 01:11:07\n",
       "11  10001  10000  2024-01-07 16:21:46"
      ]
     },
     "execution_count": 1,
     "metadata": {},
     "output_type": "execute_result"
    }
   ],
   "source": [
    "# 用faker库,构建一个数据集，如果没有，需要提前安装\n",
    "import pandas as pd\n",
    "from   faker import Faker\n",
    "fake = Faker(locale='zh_CN')\n",
    "\n",
    "df = pd.DataFrame({\n",
    "    'userA':[str(fake.random_int(10000, 10012)) for i in range(0,12)],\n",
    "    'userB':[str(fake.random_int(10000, 10020)) for i in range(0,12)],\n",
    "    'time':[fake.date_time_between(start_date=\"-1d\",end_date=\"now\").strftime(\"%Y-%m-%d %H:%M:%S\") for i in range(0,12)]\n",
    "     })\n",
    "\n",
    "# 查看我们生成的数据集，有时候结果不是很好用，可以多生成几次\n",
    "df"
   ]
  },
  {
   "cell_type": "code",
   "execution_count": 2,
   "metadata": {},
   "outputs": [
    {
     "name": "stdout",
     "output_type": "stream",
     "text": [
      "聚合数据:\n",
      "     userA  userB  time\n",
      "0   10000  10016     1\n",
      "1   10001  10000     1\n",
      "2   10001  10005     1\n",
      "3   10001  10020     1\n",
      "4   10002  10008     1\n",
      "5   10003  10001     1\n",
      "6   10005  10014     1\n",
      "7   10006  10016     1\n",
      "8   10007  10013     1\n",
      "9   10008  10016     1\n",
      "10  10010  10008     1\n",
      "11  10012  10004     1\n",
      "剔除后的数据:\n",
      "     userA  userB  time\n",
      "0   10000  10016     1\n",
      "1   10001  10000     1\n",
      "2   10001  10005     1\n",
      "3   10001  10020     1\n",
      "4   10002  10008     1\n",
      "5   10003  10001     1\n",
      "6   10005  10014     1\n",
      "7   10006  10016     1\n",
      "8   10007  10013     1\n",
      "9   10008  10016     1\n",
      "10  10010  10008     1\n",
      "11  10012  10004     1\n"
     ]
    }
   ],
   "source": [
    "# 对数据进行聚合\n",
    "df = df.groupby(['userA','userB']).agg({'time': pd.Series.nunique}).reset_index()\n",
    "print('聚合数据:\\n',df)\n",
    "\n",
    "# 剔除自己指向自己的节点\n",
    "df = df[df['userA']!=df['userB']]\n",
    "print('剔除后的数据:\\n',df)\n",
    "\n"
   ]
  },
  {
   "cell_type": "code",
   "execution_count": 3,
   "metadata": {},
   "outputs": [],
   "source": [
    "# 可视化我们的数据集\n",
    "import networkx as nx\n",
    "import matplotlib.pyplot as plt\n",
    "\n",
    "da = df[['userA','userB']].values\n",
    "G  = nx.Graph()\n",
    "for num in range(len(da)):\n",
    "    G.add_edge(str(da[num,0]),str(da[num,1]))"
   ]
  },
  {
   "cell_type": "code",
   "execution_count": 4,
   "metadata": {},
   "outputs": [
    {
     "data": {
      "image/png": "[encoded data removed]",
      "text/plain": [
       "<Figure size 640x480 with 1 Axes>"
      ]
     },
     "metadata": {},
     "output_type": "display_data"
    }
   ],
   "source": [
    "nx.draw_networkx(G)"
   ]
  },
  {
   "cell_type": "code",
   "execution_count": null,
   "metadata": {},
   "outputs": [],
   "source": []
  }
 ],
 "metadata": {
  "kernelspec": {
   "display_name": "base",
   "language": "python",
   "name": "python3"
  },
  "language_info": {
   "codemirror_mode": {
    "name": "ipython",
    "version": 3
   },
   "file_extension": ".py",
   "mimetype": "text/x-python",
   "name": "python",
   "nbconvert_exporter": "python",
   "pygments_lexer": "ipython3",
   "version": "3.9.12"
  }
 },
 "nbformat": 4,
 "nbformat_minor": 2
}
